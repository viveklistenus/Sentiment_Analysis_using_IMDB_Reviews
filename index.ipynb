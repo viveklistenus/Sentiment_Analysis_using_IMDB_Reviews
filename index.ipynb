{
 "cells": [
  {
   "cell_type": "code",
   "execution_count": 1,
   "id": "f0164bf4-5c49-427d-bc56-9698f33fed9e",
   "metadata": {},
   "outputs": [
    {
     "name": "stderr",
     "output_type": "stream",
     "text": [
      "Intel(R) Extension for Scikit-learn* enabled (https://github.com/intel/scikit-learn-intelex)\n",
      "[nltk_data] Downloading package punkt to /home/u188435/nltk_data...\n",
      "[nltk_data]   Package punkt is already up-to-date!\n",
      "[nltk_data] Downloading package stopwords to\n",
      "[nltk_data]     /home/u188435/nltk_data...\n",
      "[nltk_data]   Package stopwords is already up-to-date!\n",
      "Intel(R) Extension for Scikit-learn* enabled (https://github.com/intel/scikit-learn-intelex)\n"
     ]
    }
   ],
   "source": [
    "import nltk\n",
    "nltk.download('punkt')\n",
    "nltk.download('stopwords')\n",
    "import numpy as np \n",
    "import pandas as pd \n",
    "import re \n",
    "from nltk.corpus import stopwords\n",
    "from nltk.tokenize import word_tokenize\n",
    "from nltk.stem import SnowballStemmer\n",
    "from sklearnex import patch_sklearn\n",
    "patch_sklearn()\n",
    "from sklearn.feature_extraction.text import CountVectorizer\n",
    "from sklearn.model_selection import train_test_split\n",
    "from sklearn.naive_bayes import GaussianNB,MultinomialNB,BernoulliNB\n",
    "from sklearn.metrics import accuracy_score\n",
    "import joblib"
   ]
  },
  {
   "cell_type": "code",
   "execution_count": 2,
   "id": "901f1302-c778-4a3f-ac81-fb3633567b4e",
   "metadata": {},
   "outputs": [],
   "source": [
    "## 1 | Data Preprocessing ##\n",
    "\"\"\"Prepare the dataset before training\"\"\"\n",
    "\n",
    "# 1.1 Load dataset\n",
    "dataset = pd.read_csv('IMDB.csv')\n"
   ]
  },
  {
   "cell_type": "code",
   "execution_count": 3,
   "id": "fd2a24bc-ac61-4b9c-b6c7-f045fa5dbbfe",
   "metadata": {},
   "outputs": [
    {
     "name": "stdout",
     "output_type": "stream",
     "text": [
      "Dataset output counts:\n",
      "negative    2531\n",
      "positive    2468\n",
      "Name: sentiment, dtype: int64\n",
      "\n"
     ]
    }
   ],
   "source": [
    "# 1.2 Output counts\n",
    "print(f\"Dataset output counts:\\n{dataset.sentiment.value_counts()}\\n\")"
   ]
  },
  {
   "cell_type": "code",
   "execution_count": 4,
   "id": "96a8b28b-216e-436e-a427-651cac008e14",
   "metadata": {},
   "outputs": [
    {
     "name": "stdout",
     "output_type": "stream",
     "text": [
      "Review sample after removing HTML tags : \n",
      "One of the other reviewers has mentioned that after watching just 1 Oz episode you'll be hooked. They are right, as this is exactly what happened with me.The first thing that struck me about Oz was its brutality and unflinching scenes of violence, which set in right from the word GO. Trust me, this is not a show for the faint hearted or timid. This show pulls no punches with regards to drugs, sex or violence. Its is hardcore, in the classic use of the word.It is called OZ as that is the nickname given to the Oswald Maximum Security State Penitentary. It focuses mainly on Emerald City, an experimental section of the prison where all the cells have glass fronts and face inwards, so privacy is not high on the agenda. Em City is home to many..Aryans, Muslims, gangstas, Latinos, Christians, Italians, Irish and more....so scuffles, death stares, dodgy dealings and shady agreements are never far away.I would say the main appeal of the show is due to the fact that it goes where other shows wouldn't dare. Forget pretty pictures painted for mainstream audiences, forget charm, forget romance...OZ doesn't mess around. The first episode I ever saw struck me as so nasty it was surreal, I couldn't say I was ready for it, but as I watched more, I developed a taste for Oz, and got accustomed to the high levels of graphic violence. Not just violence, but injustice (crooked guards who'll be sold out for a nickel, inmates who'll kill on order and get away with it, well mannered, middle class inmates being turned into prison bitches due to their lack of street skills or prison experience) Watching Oz, you may become comfortable with what is uncomfortable viewing....thats if you can get in touch with your darker side.\n",
      "\n"
     ]
    }
   ],
   "source": [
    "## 2 | Data cleaning ##\n",
    "\"\"\"Clean dataset reviews as following:\n",
    "1. Remove HTML tags\n",
    "2. Remove special characters\n",
    "3. Convert everything to lowercase\n",
    "4. Remove stopwords\n",
    "5. Stemming\n",
    "\"\"\"\n",
    "\n",
    "# 2.1 Remove HTML tags\n",
    "def clean(text):\n",
    "    cleaned = re.compile(r'<.*?>')\n",
    "    return re.sub(cleaned,'',text)\n",
    "\n",
    "dataset.review = dataset.review.apply(clean)\n",
    "print(f\"Review sample after removing HTML tags : \\n{dataset.review[0]}\\n\")\n"
   ]
  },
  {
   "cell_type": "code",
   "execution_count": 5,
   "id": "bbe70c2d-aefb-4814-a462-7a921c08d1c6",
   "metadata": {},
   "outputs": [
    {
     "name": "stdout",
     "output_type": "stream",
     "text": [
      "Review sample after removing special characters : \n",
      "One of the other reviewers has mentioned that after watching just 1 Oz episode you ll be hooked  They are right  as this is exactly what happened with me The first thing that struck me about Oz was its brutality and unflinching scenes of violence  which set in right from the word GO  Trust me  this is not a show for the faint hearted or timid  This show pulls no punches with regards to drugs  sex or violence  Its is hardcore  in the classic use of the word It is called OZ as that is the nickname given to the Oswald Maximum Security State Penitentary  It focuses mainly on Emerald City  an experimental section of the prison where all the cells have glass fronts and face inwards  so privacy is not high on the agenda  Em City is home to many  Aryans  Muslims  gangstas  Latinos  Christians  Italians  Irish and more    so scuffles  death stares  dodgy dealings and shady agreements are never far away I would say the main appeal of the show is due to the fact that it goes where other shows wouldn t dare  Forget pretty pictures painted for mainstream audiences  forget charm  forget romance   OZ doesn t mess around  The first episode I ever saw struck me as so nasty it was surreal  I couldn t say I was ready for it  but as I watched more  I developed a taste for Oz  and got accustomed to the high levels of graphic violence  Not just violence  but injustice  crooked guards who ll be sold out for a nickel  inmates who ll kill on order and get away with it  well mannered  middle class inmates being turned into prison bitches due to their lack of street skills or prison experience  Watching Oz  you may become comfortable with what is uncomfortable viewing    thats if you can get in touch with your darker side \n",
      "\n"
     ]
    }
   ],
   "source": [
    "# 2.2 Remove special characters\n",
    "def is_special(text):\n",
    "    rem = ''\n",
    "    for i in text:\n",
    "        if i.isalnum():\n",
    "            rem = rem + i\n",
    "        else:\n",
    "            rem = rem + ' '\n",
    "    return rem\n",
    "\n",
    "dataset.review = dataset.review.apply(is_special)\n",
    "print(f\"Review sample after removing special characters : \\n{dataset.review[0]}\\n\")\n"
   ]
  },
  {
   "cell_type": "code",
   "execution_count": 6,
   "id": "dd541f63-32af-43a4-8dd5-32ed1f224bad",
   "metadata": {},
   "outputs": [
    {
     "name": "stdout",
     "output_type": "stream",
     "text": [
      "Review sample after converting everything to lowercase : \n",
      "one of the other reviewers has mentioned that after watching just 1 oz episode you ll be hooked  they are right  as this is exactly what happened with me the first thing that struck me about oz was its brutality and unflinching scenes of violence  which set in right from the word go  trust me  this is not a show for the faint hearted or timid  this show pulls no punches with regards to drugs  sex or violence  its is hardcore  in the classic use of the word it is called oz as that is the nickname given to the oswald maximum security state penitentary  it focuses mainly on emerald city  an experimental section of the prison where all the cells have glass fronts and face inwards  so privacy is not high on the agenda  em city is home to many  aryans  muslims  gangstas  latinos  christians  italians  irish and more    so scuffles  death stares  dodgy dealings and shady agreements are never far away i would say the main appeal of the show is due to the fact that it goes where other shows wouldn t dare  forget pretty pictures painted for mainstream audiences  forget charm  forget romance   oz doesn t mess around  the first episode i ever saw struck me as so nasty it was surreal  i couldn t say i was ready for it  but as i watched more  i developed a taste for oz  and got accustomed to the high levels of graphic violence  not just violence  but injustice  crooked guards who ll be sold out for a nickel  inmates who ll kill on order and get away with it  well mannered  middle class inmates being turned into prison bitches due to their lack of street skills or prison experience  watching oz  you may become comfortable with what is uncomfortable viewing    thats if you can get in touch with your darker side \n",
      "\n"
     ]
    }
   ],
   "source": [
    "# 2.3 Convert everything to lowercase\n",
    "def to_lower(text):\n",
    "    return text.lower()\n",
    "\n",
    "dataset.review = dataset.review.apply(to_lower)\n",
    "print(f\"Review sample after converting everything to lowercase : \\n{dataset.review[0]}\\n\")\n"
   ]
  },
  {
   "cell_type": "code",
   "execution_count": 7,
   "id": "8f98c815-1d5f-46ea-bbf4-63efc343fa41",
   "metadata": {},
   "outputs": [
    {
     "name": "stdout",
     "output_type": "stream",
     "text": [
      "Review sample after removing stopwords : \n",
      "['one', 'reviewers', 'mentioned', 'watching', '1', 'oz', 'episode', 'hooked', 'right', 'exactly', 'happened', 'first', 'thing', 'struck', 'oz', 'brutality', 'unflinching', 'scenes', 'violence', 'set', 'right', 'word', 'go', 'trust', 'show', 'faint', 'hearted', 'timid', 'show', 'pulls', 'punches', 'regards', 'drugs', 'sex', 'violence', 'hardcore', 'classic', 'use', 'word', 'called', 'oz', 'nickname', 'given', 'oswald', 'maximum', 'security', 'state', 'penitentary', 'focuses', 'mainly', 'emerald', 'city', 'experimental', 'section', 'prison', 'cells', 'glass', 'fronts', 'face', 'inwards', 'privacy', 'high', 'agenda', 'em', 'city', 'home', 'many', 'aryans', 'muslims', 'gangstas', 'latinos', 'christians', 'italians', 'irish', 'scuffles', 'death', 'stares', 'dodgy', 'dealings', 'shady', 'agreements', 'never', 'far', 'away', 'would', 'say', 'main', 'appeal', 'show', 'due', 'fact', 'goes', 'shows', 'dare', 'forget', 'pretty', 'pictures', 'painted', 'mainstream', 'audiences', 'forget', 'charm', 'forget', 'romance', 'oz', 'mess', 'around', 'first', 'episode', 'ever', 'saw', 'struck', 'nasty', 'surreal', 'say', 'ready', 'watched', 'developed', 'taste', 'oz', 'got', 'accustomed', 'high', 'levels', 'graphic', 'violence', 'violence', 'injustice', 'crooked', 'guards', 'sold', 'nickel', 'inmates', 'kill', 'order', 'get', 'away', 'well', 'mannered', 'middle', 'class', 'inmates', 'turned', 'prison', 'bitches', 'due', 'lack', 'street', 'skills', 'prison', 'experience', 'watching', 'oz', 'may', 'become', 'comfortable', 'uncomfortable', 'viewing', 'thats', 'get', 'touch', 'darker', 'side']\n",
      "\n"
     ]
    }
   ],
   "source": [
    "#2.4 Remove stopwords\n",
    "def rem_stopwords(text):\n",
    "    stop_words = set(stopwords.words('english'))\n",
    "    words = word_tokenize(text)\n",
    "    return [w for w in words if w not in stop_words]\n",
    "\n",
    "dataset.review = dataset.review.apply(rem_stopwords)\n",
    "print(f\"Review sample after removing stopwords : \\n{dataset.review[0]}\\n\")"
   ]
  },
  {
   "cell_type": "code",
   "execution_count": 8,
   "id": "eb45df87-e8ed-4472-b8a6-8ecb658669c6",
   "metadata": {},
   "outputs": [
    {
     "name": "stdout",
     "output_type": "stream",
     "text": [
      "Review sample after converting everything to lowercase : \n",
      "['one', 'reviewers', 'mentioned', 'watching', '1', 'oz', 'episode', 'hooked', 'right', 'exactly', 'happened', 'first', 'thing', 'struck', 'oz', 'brutality', 'unflinching', 'scenes', 'violence', 'set', 'right', 'word', 'go', 'trust', 'show', 'faint', 'hearted', 'timid', 'show', 'pulls', 'punches', 'regards', 'drugs', 'sex', 'violence', 'hardcore', 'classic', 'use', 'word', 'called', 'oz', 'nickname', 'given', 'oswald', 'maximum', 'security', 'state', 'penitentary', 'focuses', 'mainly', 'emerald', 'city', 'experimental', 'section', 'prison', 'cells', 'glass', 'fronts', 'face', 'inwards', 'privacy', 'high', 'agenda', 'em', 'city', 'home', 'many', 'aryans', 'muslims', 'gangstas', 'latinos', 'christians', 'italians', 'irish', 'scuffles', 'death', 'stares', 'dodgy', 'dealings', 'shady', 'agreements', 'never', 'far', 'away', 'would', 'say', 'main', 'appeal', 'show', 'due', 'fact', 'goes', 'shows', 'dare', 'forget', 'pretty', 'pictures', 'painted', 'mainstream', 'audiences', 'forget', 'charm', 'forget', 'romance', 'oz', 'mess', 'around', 'first', 'episode', 'ever', 'saw', 'struck', 'nasty', 'surreal', 'say', 'ready', 'watched', 'developed', 'taste', 'oz', 'got', 'accustomed', 'high', 'levels', 'graphic', 'violence', 'violence', 'injustice', 'crooked', 'guards', 'sold', 'nickel', 'inmates', 'kill', 'order', 'get', 'away', 'well', 'mannered', 'middle', 'class', 'inmates', 'turned', 'prison', 'bitches', 'due', 'lack', 'street', 'skills', 'prison', 'experience', 'watching', 'oz', 'may', 'become', 'comfortable', 'uncomfortable', 'viewing', 'thats', 'get', 'touch', 'darker', 'side']\n",
      "\n"
     ]
    }
   ],
   "source": [
    "# 2.3 Convert everything to lowercase\n",
    "def to_lower(text):\n",
    "    if isinstance(text, list):\n",
    "        text = [t.lower() for t in text] # convert each element to lowercase\n",
    "    else:\n",
    "        text = text.lower() # convert the string to lowercase\n",
    "    return text\n",
    "\n",
    "\n",
    "dataset.review = dataset.review.apply(to_lower)\n",
    "print(f\"Review sample after converting everything to lowercase : \\n{dataset.review[0]}\\n\")\n"
   ]
  },
  {
   "cell_type": "code",
   "execution_count": 11,
   "id": "01a36990-ba34-4783-ac17-10107851fc71",
   "metadata": {},
   "outputs": [
    {
     "name": "stdout",
     "output_type": "stream",
     "text": [
      "Review sample after removing stopwords : \n",
      "['[', \"'one\", \"'\", ',', \"'reviewers\", \"'\", ',', \"'mentioned\", \"'\", ',', \"'watching\", \"'\", ',', \"'\", '1', \"'\", ',', \"'oz\", \"'\", ',', \"'episode\", \"'\", ',', \"'hooked\", \"'\", ',', \"'right\", \"'\", ',', \"'exactly\", \"'\", ',', \"'happened\", \"'\", ',', \"'first\", \"'\", ',', \"'thing\", \"'\", ',', \"'struck\", \"'\", ',', \"'oz\", \"'\", ',', \"'brutality\", \"'\", ',', \"'unflinching\", \"'\", ',', \"'scenes\", \"'\", ',', \"'violence\", \"'\", ',', \"'set\", \"'\", ',', \"'right\", \"'\", ',', \"'word\", \"'\", ',', \"'go\", \"'\", ',', \"'trust\", \"'\", ',', \"'show\", \"'\", ',', \"'faint\", \"'\", ',', \"'hearted\", \"'\", ',', \"'timid\", \"'\", ',', \"'show\", \"'\", ',', \"'pulls\", \"'\", ',', \"'punches\", \"'\", ',', \"'regards\", \"'\", ',', \"'drugs\", \"'\", ',', \"'sex\", \"'\", ',', \"'violence\", \"'\", ',', \"'hardcore\", \"'\", ',', \"'classic\", \"'\", ',', \"'use\", \"'\", ',', \"'word\", \"'\", ',', \"'called\", \"'\", ',', \"'oz\", \"'\", ',', \"'nickname\", \"'\", ',', \"'given\", \"'\", ',', \"'oswald\", \"'\", ',', \"'maximum\", \"'\", ',', \"'security\", \"'\", ',', \"'state\", \"'\", ',', \"'penitentary\", \"'\", ',', \"'focuses\", \"'\", ',', \"'mainly\", \"'\", ',', \"'emerald\", \"'\", ',', \"'city\", \"'\", ',', \"'experimental\", \"'\", ',', \"'section\", \"'\", ',', \"'prison\", \"'\", ',', \"'cells\", \"'\", ',', \"'glass\", \"'\", ',', \"'fronts\", \"'\", ',', \"'face\", \"'\", ',', \"'inwards\", \"'\", ',', \"'privacy\", \"'\", ',', \"'high\", \"'\", ',', \"'agenda\", \"'\", ',', \"'em\", \"'\", ',', \"'city\", \"'\", ',', \"'home\", \"'\", ',', \"'many\", \"'\", ',', \"'aryans\", \"'\", ',', \"'muslims\", \"'\", ',', \"'gangstas\", \"'\", ',', \"'latinos\", \"'\", ',', \"'christians\", \"'\", ',', \"'italians\", \"'\", ',', \"'irish\", \"'\", ',', \"'scuffles\", \"'\", ',', \"'death\", \"'\", ',', \"'stares\", \"'\", ',', \"'dodgy\", \"'\", ',', \"'dealings\", \"'\", ',', \"'shady\", \"'\", ',', \"'agreements\", \"'\", ',', \"'never\", \"'\", ',', \"'far\", \"'\", ',', \"'away\", \"'\", ',', \"'would\", \"'\", ',', \"'say\", \"'\", ',', \"'main\", \"'\", ',', \"'appeal\", \"'\", ',', \"'show\", \"'\", ',', \"'due\", \"'\", ',', \"'fact\", \"'\", ',', \"'goes\", \"'\", ',', \"'shows\", \"'\", ',', \"'dare\", \"'\", ',', \"'forget\", \"'\", ',', \"'pretty\", \"'\", ',', \"'pictures\", \"'\", ',', \"'painted\", \"'\", ',', \"'mainstream\", \"'\", ',', \"'audiences\", \"'\", ',', \"'forget\", \"'\", ',', \"'charm\", \"'\", ',', \"'forget\", \"'\", ',', \"'romance\", \"'\", ',', \"'oz\", \"'\", ',', \"'mess\", \"'\", ',', \"'around\", \"'\", ',', \"'first\", \"'\", ',', \"'episode\", \"'\", ',', \"'ever\", \"'\", ',', \"'saw\", \"'\", ',', \"'struck\", \"'\", ',', \"'nasty\", \"'\", ',', \"'surreal\", \"'\", ',', \"'say\", \"'\", ',', \"'ready\", \"'\", ',', \"'watched\", \"'\", ',', \"'developed\", \"'\", ',', \"'taste\", \"'\", ',', \"'oz\", \"'\", ',', \"'got\", \"'\", ',', \"'accustomed\", \"'\", ',', \"'high\", \"'\", ',', \"'levels\", \"'\", ',', \"'graphic\", \"'\", ',', \"'violence\", \"'\", ',', \"'violence\", \"'\", ',', \"'injustice\", \"'\", ',', \"'crooked\", \"'\", ',', \"'guards\", \"'\", ',', \"'sold\", \"'\", ',', \"'nickel\", \"'\", ',', \"'inmates\", \"'\", ',', \"'kill\", \"'\", ',', \"'order\", \"'\", ',', \"'get\", \"'\", ',', \"'away\", \"'\", ',', \"'well\", \"'\", ',', \"'mannered\", \"'\", ',', \"'middle\", \"'\", ',', \"'class\", \"'\", ',', \"'inmates\", \"'\", ',', \"'turned\", \"'\", ',', \"'prison\", \"'\", ',', \"'bitches\", \"'\", ',', \"'due\", \"'\", ',', \"'lack\", \"'\", ',', \"'street\", \"'\", ',', \"'skills\", \"'\", ',', \"'prison\", \"'\", ',', \"'experience\", \"'\", ',', \"'watching\", \"'\", ',', \"'oz\", \"'\", ',', \"'may\", \"'\", ',', \"'become\", \"'\", ',', \"'comfortable\", \"'\", ',', \"'uncomfortable\", \"'\", ',', \"'viewing\", \"'\", ',', \"'thats\", \"'\", ',', \"'get\", \"'\", ',', \"'touch\", \"'\", ',', \"'darker\", \"'\", ',', \"'side\", \"'\", ']']\n",
      "\n"
     ]
    }
   ],
   "source": [
    "#2.4 Remove stopwords\n",
    "def rem_stopwords(text):\n",
    "    stop_words = set(stopwords.words('english'))\n",
    "    words = word_tokenize(text)\n",
    "    return [w for w in words if w not in stop_words]\n",
    "\n",
    "\n",
    "dataset.review = dataset.review.apply(str).apply(rem_stopwords)\n",
    "print(f\"Review sample after removing stopwords : \\n{dataset.review[0]}\\n\")\n"
   ]
  },
  {
   "cell_type": "code",
   "execution_count": 12,
   "id": "273dc441-0132-44bc-b853-8f6b055ffcee",
   "metadata": {},
   "outputs": [
    {
     "name": "stdout",
     "output_type": "stream",
     "text": [
      "Review sample after stemming the words : \n",
      "[ one ' , review ' , mention ' , watch ' , ' 1 ' , oz ' , episod ' , hook ' , right ' , exact ' , happen ' , first ' , thing ' , struck ' , oz ' , brutal ' , unflinch ' , scene ' , violenc ' , set ' , right ' , word ' , go ' , trust ' , show ' , faint ' , heart ' , timid ' , show ' , pull ' , punch ' , regard ' , drug ' , sex ' , violenc ' , hardcor ' , classic ' , use ' , word ' , call ' , oz ' , nicknam ' , given ' , oswald ' , maximum ' , secur ' , state ' , penitentari ' , focus ' , main ' , emerald ' , citi ' , experiment ' , section ' , prison ' , cell ' , glass ' , front ' , face ' , inward ' , privaci ' , high ' , agenda ' , em ' , citi ' , home ' , mani ' , aryan ' , muslim ' , gangsta ' , latino ' , christian ' , italian ' , irish ' , scuffl ' , death ' , stare ' , dodgi ' , deal ' , shadi ' , agreement ' , never ' , far ' , away ' , would ' , say ' , main ' , appeal ' , show ' , due ' , fact ' , goe ' , show ' , dare ' , forget ' , pretti ' , pictur ' , paint ' , mainstream ' , audienc ' , forget ' , charm ' , forget ' , romanc ' , oz ' , mess ' , around ' , first ' , episod ' , ever ' , saw ' , struck ' , nasti ' , surreal ' , say ' , readi ' , watch ' , develop ' , tast ' , oz ' , got ' , accustom ' , high ' , level ' , graphic ' , violenc ' , violenc ' , injustic ' , crook ' , guard ' , sold ' , nickel ' , inmat ' , kill ' , order ' , get ' , away ' , well ' , manner ' , middl ' , class ' , inmat ' , turn ' , prison ' , bitch ' , due ' , lack ' , street ' , skill ' , prison ' , experi ' , watch ' , oz ' , may ' , becom ' , comfort ' , uncomfort ' , view ' , that ' , get ' , touch ' , darker ' , side ' ]\n",
      "\n"
     ]
    }
   ],
   "source": [
    "# 2.5 Stem the words\n",
    "def stem_txt(text):\n",
    "    ss = SnowballStemmer('english')\n",
    "    return \" \".join([ss.stem(w) for w in text])\n",
    "\n",
    "dataset.review = dataset.review.apply(stem_txt)\n",
    "print(f\"Review sample after stemming the words : \\n{dataset.review[0]}\\n\")"
   ]
  },
  {
   "cell_type": "code",
   "execution_count": 13,
   "id": "043c2ae0-46de-4033-b92e-04d23f1489c2",
   "metadata": {},
   "outputs": [
    {
     "name": "stdout",
     "output_type": "stream",
     "text": [
      "=== Bag of words ===\n",
      "\n",
      "BOW X shape : (4999, 2000)\n",
      "BOW y shape : (4999,)\n",
      "\n"
     ]
    }
   ],
   "source": [
    "## 3 | Model Creation ##\n",
    "\"\"\"Create model to fit it to the data\"\"\"\n",
    "\n",
    "# 3.1 Creating Bag Of Words (BOW)\n",
    "X = np.array(dataset.iloc[:,0].values)\n",
    "y = np.array(dataset.sentiment.values)\n",
    "cv = CountVectorizer(max_features = 2000)\n",
    "X = cv.fit_transform(dataset.review).toarray()\n",
    "print(f\"=== Bag of words ===\\n\")\n",
    "print(f\"BOW X shape : {X.shape}\")\n",
    "print(f\"BOW y shape : {y.shape}\\n\")"
   ]
  },
  {
   "cell_type": "code",
   "execution_count": 14,
   "id": "58f07ab3-221a-431f-9f55-ecd456a351a8",
   "metadata": {},
   "outputs": [
    {
     "name": "stdout",
     "output_type": "stream",
     "text": [
      "Train shapes : X = (3999, 2000), y = (3999,)\n",
      "Test shapes  : X = (1000, 2000),  y = (1000,)\n",
      "\n"
     ]
    }
   ],
   "source": [
    "# 3.2 Train test split\n",
    "X_train, X_test, y_train, y_test = train_test_split(X, y, test_size=0.2, random_state=9)\n",
    "print(f\"Train shapes : X = {X_train.shape}, y = {y_train.shape}\")\n",
    "print(f\"Test shapes  : X = {X_test.shape},  y = {y_test.shape}\\n\")\n"
   ]
  },
  {
   "cell_type": "code",
   "execution_count": 15,
   "id": "decdd8ec-9c7d-464d-a38b-3e72af29b88b",
   "metadata": {},
   "outputs": [
    {
     "data": {
      "text/html": [
       "<style>#sk-container-id-1 {color: black;background-color: white;}#sk-container-id-1 pre{padding: 0;}#sk-container-id-1 div.sk-toggleable {background-color: white;}#sk-container-id-1 label.sk-toggleable__label {cursor: pointer;display: block;width: 100%;margin-bottom: 0;padding: 0.3em;box-sizing: border-box;text-align: center;}#sk-container-id-1 label.sk-toggleable__label-arrow:before {content: \"▸\";float: left;margin-right: 0.25em;color: #696969;}#sk-container-id-1 label.sk-toggleable__label-arrow:hover:before {color: black;}#sk-container-id-1 div.sk-estimator:hover label.sk-toggleable__label-arrow:before {color: black;}#sk-container-id-1 div.sk-toggleable__content {max-height: 0;max-width: 0;overflow: hidden;text-align: left;background-color: #f0f8ff;}#sk-container-id-1 div.sk-toggleable__content pre {margin: 0.2em;color: black;border-radius: 0.25em;background-color: #f0f8ff;}#sk-container-id-1 input.sk-toggleable__control:checked~div.sk-toggleable__content {max-height: 200px;max-width: 100%;overflow: auto;}#sk-container-id-1 input.sk-toggleable__control:checked~label.sk-toggleable__label-arrow:before {content: \"▾\";}#sk-container-id-1 div.sk-estimator input.sk-toggleable__control:checked~label.sk-toggleable__label {background-color: #d4ebff;}#sk-container-id-1 div.sk-label input.sk-toggleable__control:checked~label.sk-toggleable__label {background-color: #d4ebff;}#sk-container-id-1 input.sk-hidden--visually {border: 0;clip: rect(1px 1px 1px 1px);clip: rect(1px, 1px, 1px, 1px);height: 1px;margin: -1px;overflow: hidden;padding: 0;position: absolute;width: 1px;}#sk-container-id-1 div.sk-estimator {font-family: monospace;background-color: #f0f8ff;border: 1px dotted black;border-radius: 0.25em;box-sizing: border-box;margin-bottom: 0.5em;}#sk-container-id-1 div.sk-estimator:hover {background-color: #d4ebff;}#sk-container-id-1 div.sk-parallel-item::after {content: \"\";width: 100%;border-bottom: 1px solid gray;flex-grow: 1;}#sk-container-id-1 div.sk-label:hover label.sk-toggleable__label {background-color: #d4ebff;}#sk-container-id-1 div.sk-serial::before {content: \"\";position: absolute;border-left: 1px solid gray;box-sizing: border-box;top: 0;bottom: 0;left: 50%;z-index: 0;}#sk-container-id-1 div.sk-serial {display: flex;flex-direction: column;align-items: center;background-color: white;padding-right: 0.2em;padding-left: 0.2em;position: relative;}#sk-container-id-1 div.sk-item {position: relative;z-index: 1;}#sk-container-id-1 div.sk-parallel {display: flex;align-items: stretch;justify-content: center;background-color: white;position: relative;}#sk-container-id-1 div.sk-item::before, #sk-container-id-1 div.sk-parallel-item::before {content: \"\";position: absolute;border-left: 1px solid gray;box-sizing: border-box;top: 0;bottom: 0;left: 50%;z-index: -1;}#sk-container-id-1 div.sk-parallel-item {display: flex;flex-direction: column;z-index: 1;position: relative;background-color: white;}#sk-container-id-1 div.sk-parallel-item:first-child::after {align-self: flex-end;width: 50%;}#sk-container-id-1 div.sk-parallel-item:last-child::after {align-self: flex-start;width: 50%;}#sk-container-id-1 div.sk-parallel-item:only-child::after {width: 0;}#sk-container-id-1 div.sk-dashed-wrapped {border: 1px dashed gray;margin: 0 0.4em 0.5em 0.4em;box-sizing: border-box;padding-bottom: 0.4em;background-color: white;}#sk-container-id-1 div.sk-label label {font-family: monospace;font-weight: bold;display: inline-block;line-height: 1.2em;}#sk-container-id-1 div.sk-label-container {text-align: center;}#sk-container-id-1 div.sk-container {/* jupyter's `normalize.less` sets `[hidden] { display: none; }` but bootstrap.min.css set `[hidden] { display: none !important; }` so we also need the `!important` here to be able to override the default hidden behavior on the sphinx rendered scikit-learn.org. See: https://github.com/scikit-learn/scikit-learn/issues/21755 */display: inline-block !important;position: relative;}#sk-container-id-1 div.sk-text-repr-fallback {display: none;}</style><div id=\"sk-container-id-1\" class=\"sk-top-container\"><div class=\"sk-text-repr-fallback\"><pre>BernoulliNB()</pre><b>In a Jupyter environment, please rerun this cell to show the HTML representation or trust the notebook. <br />On GitHub, the HTML representation is unable to render, please try loading this page with nbviewer.org.</b></div><div class=\"sk-container\" hidden><div class=\"sk-item\"><div class=\"sk-estimator sk-toggleable\"><input class=\"sk-toggleable__control sk-hidden--visually\" id=\"sk-estimator-id-1\" type=\"checkbox\" checked><label for=\"sk-estimator-id-1\" class=\"sk-toggleable__label sk-toggleable__label-arrow\">BernoulliNB</label><div class=\"sk-toggleable__content\"><pre>BernoulliNB()</pre></div></div></div></div></div>"
      ],
      "text/plain": [
       "BernoulliNB()"
      ]
     },
     "execution_count": 15,
     "metadata": {},
     "output_type": "execute_result"
    }
   ],
   "source": [
    "# 3.3 Defining the models and Training them\n",
    "gnb, mnb, bnb = GaussianNB(), MultinomialNB(alpha=1.0,fit_prior=True), BernoulliNB(alpha=1.0,fit_prior=True)\n",
    "gnb.fit(X_train, y_train)\n",
    "mnb.fit(X_train, y_train)\n",
    "bnb.fit(X_train, y_train)"
   ]
  },
  {
   "cell_type": "code",
   "execution_count": 16,
   "id": "d154d2d8-e73b-4522-8939-f98c33fbf1fb",
   "metadata": {},
   "outputs": [
    {
     "data": {
      "text/plain": [
       "['Models/MRSA_bnb.pkl']"
      ]
     },
     "execution_count": 16,
     "metadata": {},
     "output_type": "execute_result"
    }
   ],
   "source": [
    "# 3.4 Save the three models\n",
    "joblib.dump(gnb, \"Models/MRSA_gnb.pkl\")\n",
    "joblib.dump(mnb, \"Models/MRSA_mnb.pkl\")\n",
    "joblib.dump(bnb, \"Models/MRSA_bnb.pkl\")"
   ]
  },
  {
   "cell_type": "code",
   "execution_count": 17,
   "id": "bf2cf956-9bdd-4a0d-8f58-670ac175d46e",
   "metadata": {},
   "outputs": [],
   "source": [
    "\n",
    "# 3.5 Make predictions\n",
    "ypg = gnb.predict(X_test)\n",
    "ypm = mnb.predict(X_test)\n",
    "ypb = bnb.predict(X_test)"
   ]
  },
  {
   "cell_type": "code",
   "execution_count": 18,
   "id": "e0adf6f7-2de8-4797-9f31-8e856aabebd6",
   "metadata": {},
   "outputs": [
    {
     "name": "stdout",
     "output_type": "stream",
     "text": [
      "Gaussian accuracy    =  74.0 %\n",
      "Multinomial accuracy =  83.0 %\n",
      "Bernoulli accuracy   =  84.0 %\n"
     ]
    }
   ],
   "source": [
    "## 4 | Model Evaluation ##\n",
    "\"\"\"Evaluate model performance\"\"\"\n",
    "print(f\"Gaussian accuracy    =  {round(accuracy_score(y_test, ypg), 2)*100} %\")\n",
    "print(f\"Multinomial accuracy =  {round(accuracy_score(y_test, ypm), 2)*100} %\")\n",
    "print(f\"Bernoulli accuracy   =  {round(accuracy_score(y_test, ypb), 2)*100} %\")\n"
   ]
  },
  {
   "cell_type": "code",
   "execution_count": null,
   "id": "06e9f6d5-abb1-4c28-a775-ed18db4adf52",
   "metadata": {},
   "outputs": [],
   "source": []
  },
  {
   "cell_type": "code",
   "execution_count": null,
   "id": "6e0d7342-8fd0-4c48-9276-ff3df7f3076a",
   "metadata": {},
   "outputs": [],
   "source": []
  }
 ],
 "metadata": {
  "kernelspec": {
   "display_name": "Python 3 (Intel® oneAPI 2023.0)",
   "language": "python",
   "name": "c009-intel_distribution_of_python_3_oneapi-beta05-python"
  },
  "language_info": {
   "codemirror_mode": {
    "name": "ipython",
    "version": 3
   },
   "file_extension": ".py",
   "mimetype": "text/x-python",
   "name": "python",
   "nbconvert_exporter": "python",
   "pygments_lexer": "ipython3",
   "version": "3.9.15"
  }
 },
 "nbformat": 4,
 "nbformat_minor": 5
}
